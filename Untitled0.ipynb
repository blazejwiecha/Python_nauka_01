{
  "nbformat": 4,
  "nbformat_minor": 0,
  "metadata": {
    "colab": {
      "name": "Untitled0.ipynb",
      "provenance": [],
      "authorship_tag": "ABX9TyNR8KZnYAjGL/Hrdx4Mf6RH",
      "include_colab_link": true
    },
    "kernelspec": {
      "name": "python3",
      "display_name": "Python 3"
    },
    "language_info": {
      "name": "python"
    }
  },
  "cells": [
    {
      "cell_type": "markdown",
      "metadata": {
        "id": "view-in-github",
        "colab_type": "text"
      },
      "source": [
        "<a href=\"https://colab.research.google.com/github/blazejwiecha/Python_nauka_01/blob/main/Untitled0.ipynb\" target=\"_parent\"><img src=\"https://colab.research.google.com/assets/colab-badge.svg\" alt=\"Open In Colab\"/></a>"
      ]
    },
    {
      "cell_type": "code",
      "metadata": {
        "id": "8GLrz8sEg8NY"
      },
      "source": [
        "print(len(\"95637+12\"))"
      ],
      "execution_count": null,
      "outputs": []
    },
    {
      "cell_type": "code",
      "metadata": {
        "colab": {
          "base_uri": "https://localhost:8080/"
        },
        "id": "FWnElAYTqSOC",
        "outputId": "ea803e18-a6cb-4193-d97e-c1cfef426ade"
      },
      "source": [
        "    score = 67\n",
        "    if score < 80 and score > 70:\n",
        "        print(\"A\")\n",
        "    elif score < 90 or score > 80:\n",
        "        print(\"B\")\n",
        "    elif score > 60:\n",
        "        print(\"C\")\n",
        "    else:\n",
        "        print(\"D\")"
      ],
      "execution_count": null,
      "outputs": [
        {
          "output_type": "stream",
          "text": [
            "B\n"
          ],
          "name": "stdout"
        }
      ]
    },
    {
      "cell_type": "code",
      "metadata": {
        "id": "fVbYuc1gqfC6"
      },
      "source": [
        "def a_function(a_parameter):    \n",
        "  a_variable = 15    \n",
        "  return a_parameter \n",
        "  a_function(10)\n",
        "print(a_variable)"
      ],
      "execution_count": null,
      "outputs": []
    },
    {
      "cell_type": "code",
      "metadata": {
        "colab": {
          "base_uri": "https://localhost:8080/"
        },
        "id": "g4YVtOjZrGQK",
        "outputId": "1a5861c7-ad5c-4a91-e91c-5c4fbf56a96a"
      },
      "source": [
        "    def outer_function(a, b):\n",
        "        def inner_function(c, d):\n",
        "            return c + d\n",
        "        return inner_function(a, b)\n",
        "     \n",
        "    result = outer_function(5, 10)\n",
        "    print(result)"
      ],
      "execution_count": null,
      "outputs": [
        {
          "output_type": "stream",
          "text": [
            "15\n"
          ],
          "name": "stdout"
        }
      ]
    },
    {
      "cell_type": "code",
      "metadata": {
        "colab": {
          "base_uri": "https://localhost:8080/"
        },
        "id": "j3KH18rIsI1y",
        "outputId": "c132fc74-8c14-4b40-c84e-9d374e7bc064"
      },
      "source": [
        "    def foo(a, b=4, c=6):\n",
        "        print(a, b, c)\n",
        "     \n",
        "    foo(20, c=12)"
      ],
      "execution_count": null,
      "outputs": [
        {
          "output_type": "stream",
          "text": [
            "20 4 12\n"
          ],
          "name": "stdout"
        }
      ]
    },
    {
      "cell_type": "code",
      "metadata": {
        "colab": {
          "base_uri": "https://localhost:8080/"
        },
        "id": "iAN7LDFbsWQ6",
        "outputId": "9b4cd34f-2ab4-424e-bf58-673952bc280c"
      },
      "source": [
        "    def all_aboard(a, *args, **kw): \n",
        "        print(a, args, kw)\n",
        "     \n",
        "    all_aboard(4, 7, 3, 0, x=10, y=64)"
      ],
      "execution_count": null,
      "outputs": [
        {
          "output_type": "stream",
          "text": [
            "4 (7, 3, 0) {'x': 10, 'y': 64}\n"
          ],
          "name": "stdout"
        }
      ]
    },
    {
      "cell_type": "code",
      "metadata": {
        "colab": {
          "base_uri": "https://localhost:8080/"
        },
        "id": "b6vnKfxAsnai",
        "outputId": "526dbdf0-0aa6-4f4e-b17a-4c206052c9f7"
      },
      "source": [
        "    numbers = [1, 1, 2, 3, 5, 8, 13, 21, 34, 55]\n",
        "    result = [num + 3 for num in numbers if num % 2 == 0]\n",
        "    print(result)"
      ],
      "execution_count": null,
      "outputs": [
        {
          "output_type": "stream",
          "text": [
            "[5, 11, 37]\n"
          ],
          "name": "stdout"
        }
      ]
    },
    {
      "cell_type": "code",
      "metadata": {
        "colab": {
          "base_uri": "https://localhost:8080/"
        },
        "id": "VFD_TKY-FdzE",
        "outputId": "26ea86f2-52fe-4f35-d5bb-c7b2569a5d04"
      },
      "source": [
        "print(\"hello\\nhello\\nhello\")"
      ],
      "execution_count": null,
      "outputs": [
        {
          "output_type": "stream",
          "text": [
            "hello\n",
            "hello\n",
            "hello\n"
          ],
          "name": "stdout"
        }
      ]
    },
    {
      "cell_type": "code",
      "metadata": {
        "colab": {
          "base_uri": "https://localhost:8080/"
        },
        "id": "tiZafMLmFvch",
        "outputId": "2e83b758-03a5-457b-d1b7-78d21160537e"
      },
      "source": [
        "print(\"Hello\" + \" Blazej\")"
      ],
      "execution_count": null,
      "outputs": [
        {
          "output_type": "stream",
          "text": [
            "Hello Blazej\n"
          ],
          "name": "stdout"
        }
      ]
    },
    {
      "cell_type": "code",
      "metadata": {
        "id": "yJa8kJkNO0eS"
      },
      "source": [
        "Print(\"Czy możesz wejść na kolejkę ?\")\n",
        "wzrost = int(input(\"Podaj rozmiar w cm:\"))\n",
        "\n",
        "if wzrost >= 120:\n",
        "  print(\"Tak, możesz\")\n",
        "else:\n",
        "  print(\"No way , go to mummy\")"
      ],
      "execution_count": null,
      "outputs": []
    },
    {
      "cell_type": "code",
      "metadata": {
        "colab": {
          "base_uri": "https://localhost:8080/"
        },
        "id": "QD5yDdvZNvUG",
        "outputId": "b79c109f-f117-4a4d-c6c5-40f3fecd3374"
      },
      "source": [
        "liczba = int(input(\"Podaj liczbę:\"))\n",
        "\n",
        "sprawdzenie_liczby = liczba % 2\n",
        "\n",
        "print(sprawdzenie_liczby)"
      ],
      "execution_count": null,
      "outputs": [
        {
          "output_type": "stream",
          "text": [
            "Podaj liczbę:5\n",
            "1\n"
          ],
          "name": "stdout"
        }
      ]
    },
    {
      "cell_type": "code",
      "metadata": {
        "colab": {
          "base_uri": "https://localhost:8080/"
        },
        "id": "C08cmKmFrd6w",
        "outputId": "8f245520-6667-4f71-d0ec-3ec1accb3eab"
      },
      "source": [
        "import random\n",
        "\n",
        "random_integer = random.randint(1, 10000000)\n",
        "print(random_integer)"
      ],
      "execution_count": null,
      "outputs": [
        {
          "output_type": "stream",
          "text": [
            "7188918\n"
          ],
          "name": "stdout"
        }
      ]
    },
    {
      "cell_type": "code",
      "metadata": {
        "id": "kvIbFwDJ2rlU",
        "colab": {
          "base_uri": "https://localhost:8080/"
        },
        "outputId": "7affcf19-0976-46c5-cf8d-0096c0a8d9f8"
      },
      "source": [
        "fruits = [\"Strawberries\", \"Nectarines\", \"Apples\", \"Grapes\", \"Peaches\", \"Cherries\", \"Pears\"]\n",
        "fruits[-1] = \"Melons\"\n",
        "fruits.append(\"Lemons\")\n",
        "print(fruits)"
      ],
      "execution_count": null,
      "outputs": [
        {
          "output_type": "stream",
          "text": [
            "['Strawberries', 'Nectarines', 'Apples', 'Grapes', 'Peaches', 'Cherries', 'Melons', 'Lemons']\n"
          ],
          "name": "stdout"
        }
      ]
    },
    {
      "cell_type": "code",
      "metadata": {
        "colab": {
          "base_uri": "https://localhost:8080/"
        },
        "id": "nhdV8MHblmYc",
        "outputId": "e69bdef3-acc0-492e-8a3d-c6c843bc6a5e"
      },
      "source": [
        "fruits = [\"Strawberries\", \"Nectarines\", \"Apples\", \"Grapes\", \"Peaches\", \"Cherries\", \"Pears\"]\n",
        "vegetables = [\"Spinach\", \"Kale\", \"Tomatoes\", \"Celery\", \"Potatoes\"]\n",
        " \n",
        "dirty_dozen = [fruits, vegetables]\n",
        " \n",
        "print(dirty_dozen[1][1])"
      ],
      "execution_count": null,
      "outputs": [
        {
          "output_type": "stream",
          "text": [
            "Kale\n"
          ],
          "name": "stdout"
        }
      ]
    },
    {
      "cell_type": "markdown",
      "metadata": {
        "id": "Pht9BeAvuS2f"
      },
      "source": [
        "# Nowa sekcja"
      ]
    }
  ]
}